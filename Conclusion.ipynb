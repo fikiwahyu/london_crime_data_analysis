{
 "cells": [
  {
   "cell_type": "markdown",
   "metadata": {},
   "source": [
    "<b>NEXTDEV</b> Digitalent Academy : Python Assignment 1 - Data Visualization<br>\n",
    "Lecture : <strong> Afif A.I. </strong> <br>\n",
    "code by : <strong>Wahyu Fachrur Zulfikar</strong>"
   ]
  },
  {
   "cell_type": "markdown",
   "metadata": {},
   "source": [
    "Hipotesis yang didapat dari data London Crime by lsoa:\n",
    "* Berpakah total jumlah kasus kejahatan yang dilaporkan pada tahun 2008 - 2016?\n",
    "* Berapakah rata-rata total kasus kejahatan terlapor di London selama 2008 - 2016? \n",
    "* Bagaimanakah Trend kejahatan selama 2008 - 2016 berjalan?\n",
    "  * dari total kejahatan tersebut, pada tahun berapakah terjadi titik puncak dari jumlah kasus kejahatan?\n",
    "  * pada tahun berapakah tingkat kejahatan di London mulai berkurang?\n",
    "* Selama 8 tahun antara 2008 hingga 2016, jenis kejahatan <b><i>major_category</i></b> apakah yang mendominasi di London?\n",
    "  * bagaimana klasifikasi dari kejahatan tersebut? \n",
    "  * apa penyebab yang paling berkontribusi dari kejahatan tersebut? (minor_category)\n"
   ]
  },
  {
   "cell_type": "markdown",
   "metadata": {},
   "source": [
    "# <b>Pendahuluan</b>"
   ]
  },
  {
   "cell_type": "markdown",
   "metadata": {},
   "source": [
    "<img width=600 style=\"float:left; margin-right:2rem\" src=\"assets/LondonBorough.png\">\n",
    "<p><b>London</b> adalah ibu kota Inggris dan Britania Raya, merupakan wilayah metropolitan terbesar di Britania Raya. London Berlokasi di sepanjang Sungai Thames, London telah menjadi permukiman utama selama dua milenium sejak didirikan oleh Romawi pada abad ke-1 dengan nama Londinium. Pusat dari London kuno, yaitu City of London, sebagian besar masih tetap mempertahankan batas-batas abad pertengahannya. Sejak abad ke-19, nama London juga digunakan untuk menyebut kota metropolitan yang berkembang di sekitar pusat ini. kumpulan daerah (Konurbasi) dari wilayah-wilayah urban ini pada akhirnya membentuk Region London dan wilayah administratif London Raya. Wilayah ini diatur dan dibawahi oleh wali kota London dan Majelis London yang dipilih melalui pemilihan umum. </p>"
   ]
  },
  {
   "cell_type": "markdown",
   "metadata": {},
   "source": [
    "<p>Sejak 1965, London Raya terbagi menjadi <b>33 borough</b>, termasuk City of London. City of London merupakan pusat keuangan utama. Berdasarkan situasi di London, London mempunyai 2 kawasan besar yang terkenal mempunyai cirikhas masing\"</p>\n",
    " \n",
    "><b>Kawasan West End</b> merupakan pusat hiburan dan perbelanjaan utama yang menarik para wisatawan ke London. Di kawasan London Barat terletak perumahan-perumahan mahal dengan harga tanah yang mencapai angka puluhan juta pound. Rata-rata harga properti di Kensington dan Chelsea adalah £ 894.000, tidak jauh berbeda dengan harga rata-rata di sebagian besar pusat kota London.\n",
    "<hr>\n",
    "\n",
    "><b>Kawasan East End</b> merupakan kawasan yang paling dekat dengan lokasi Pelabuhan London yang asli. Kawasan ini ramai dengan penduduk imigran, dan juga menjadi salah satu kawasan termiskin di London. Sebagian besar kegiatan perindustrian terdapat London Timur. Tempat-tempat telantar di seluruh kawasan ini dibangun kembali sebagai bagian dari proyek Thames Gateway, termasuk London Riverside dan Lower Lea Valley yang dibangun menjadi Taman Olimpiade dan Paralimpiade Musim Panas 2012. "
   ]
  },
  {
   "cell_type": "markdown",
   "metadata": {},
   "source": [
    "# <b>Data Analysis </b>"
   ]
  },
  {
   "cell_type": "markdown",
   "metadata": {},
   "source": [
    "<img style=\"background:#fff; float:left; margin:0 2rem 1rem 0\" src=\"assets/YearCase.png\"> Berdasarkan data jumlah kasus tahunan `Total Cases by Year`, dapat disimpulkan bahwa Trend kasus kejahatan (terlapor) di London berkisar antara <b> 680.183 - 738.641 </b> case/thn. Dengan rata-rata sebanyak <b>716.417</b> case/thn. Kasus kejahatan tertinggi dialami pada tahun 2008, 2012, dan 2016 yakni sebanyak <b>>735.000</b> case/thn. sedangkan jumlah kasus kejahatan terendah berada pada tahun 2013 dan 2014 yaitu sebanyak <b>~680.000</b> case/thn.\n",
    "\n",
    "<table>\n",
    "  <tr>\n",
    "    <th>Tahun</th>\n",
    "    <td>2008</td>\n",
    "    <td>2009</td>\n",
    "    <td>2010</td>\n",
    "    <td>2011</td>\n",
    "    <td>2012</td>\n",
    "    <td>2013</td>\n",
    "    <td>2014</td>\n",
    "    <td>2015</td>\n",
    "    <td>2016</td>\n",
    "  </tr>\n",
    "  <tr>\n",
    "    <th>Total Case</th>\n",
    "    <td style=\"background-color:#ff0000\">738641</td>\n",
    "    <td>717214</td>\n",
    "    <td>715324</td>\n",
    "    <td>724915</td>\n",
    "    <td>737329</td>\n",
    "    <td>686407</td>\n",
    "    <td style=\"background-color:green\">680183</td>\n",
    "    <td>711624</td>\n",
    "    <td>736121</td>\n",
    "  </tr>\n",
    "</table>"
   ]
  },
  {
   "cell_type": "markdown",
   "metadata": {},
   "source": [
    "<img style=\"background:#fff; float:left; margin:0 2rem 1rem 0\" src=\"assets/monthlycaseperyear.png\"> Pada BoxPlot disamping `data kasus tiap bulan/tahun`  menunjukkan bahwa kasus bulanan tertinggi adalah pada tahun 2012. dan jumlah kasus bulanan terendah terdapat pada tahun 2010 dan 2015 sebanyak <b><52000</b> dibuktikan dengan adanya titik bulat di bagian bawah yang menunjukkan sebuah outliner bawah pada grafik disamping."
   ]
  },
  {
   "cell_type": "markdown",
   "metadata": {},
   "source": [
    "<img style=\"background:#afafaf\" id=\"major\" src=\"assets/majorCasebyYear.png\">"
   ]
  },
  {
   "cell_type": "markdown",
   "metadata": {},
   "source": [
    ">dan jika dibedakan berdasarkan <i>major Case</i>, maka dapat disimpulkan bahwa kasus kriminal yang mendominasi di London adalah Kasus Pencurian <b><i>(Theft And Handling)</i></b>  dan juga kasus kekerasan pada seseorang <b><i>(Violence Against the person)</i></b>. kategori kriminal yang sangat jarang terjadi di london adalah kasus penipuan <b><i>(Fraud and Forgery)</i></b> dan Kejahatan Seksual <b><i>(Sexual Offence)</i></b>. \n",
    "<br>\n",
    "<br>\n",
    "berdasarkan grafik `Major Cases by Year` diatas, bahkan kasus <b><i>(Fraud and Forgery & Sexual Offences)</i></b> terlapor sudah tidak ada lagi setelah tahun 2008. dan jika dilihat secara lebih spesifik dalam grafik bulanan `major Crime Monthly` menggunakan line-plot, maka dapat dilihat bahwa kasus ini hanya terjadi dalam 2 bulan pertama di tahun 2008. ditemukan juga kasus kekerasan terhadap manusia semakin bertambah setiap tahunnya dari 2008 hingga 2016"
   ]
  },
  {
   "cell_type": "markdown",
   "metadata": {},
   "source": [
    "<img style=\"background:#afafaf\" src= \"assets/areaplotmajorCase.png\">"
   ]
  },
  {
   "cell_type": "markdown",
   "metadata": {},
   "source": [
    ">Jika dilihat berdasarkan area plot, maka secara visual dapat dilihat bahwa grafik luas area dari 3 kasus teratas <b><i>(Theft and Handling, Violence Against the Person & Burglary</i></b> menunjukkan luas yang lebih besar dari kasus lainnya."
   ]
  },
  {
   "cell_type": "markdown",
   "metadata": {},
   "source": [
    "<img style=\"background:#afafaf\" src= \"assets/minorCasebyMonth.png\">"
   ]
  },
  {
   "cell_type": "markdown",
   "metadata": {},
   "source": [
    "Berdasarkan data kriminal yang telah kita dapat, kita akan mengelompokkan dengan menggunakan major category dan melihat secara detail <b>3 major category</b> teratas lalu melihat <i>minor_category</i> apa yang berperan besar dalam masing-masing major category tersebut:"
   ]
  },
  {
   "cell_type": "markdown",
   "metadata": {},
   "source": [
    "<img style=\"background:#afafaf; float:left; margin:0 2rem 1rem 0; height:300px\" src=\"assets/pieChartMajorCrime.png\">\n",
    "Berdasarkan persentase kasus yang ditampilkan dalam Pie Chart, dapat disimpulkan bahwa 3 kasus yang mendominasi di London adalah kasus <b><i>Theft and Handling</i></b>, <b><i>Violence Againts the Person</i></b>, dan <b><i>Burglary</i></b> yakni berkontribusi sebesar 77.2% kejahatan total di London.\n",
    "<br>\n",
    "<br>\n",
    "Dalam hal ini kita hanya akan membedah 3 major category teratas dan menganalisa penyebabnya melalui minor Category"
   ]
  },
  {
   "cell_type": "markdown",
   "metadata": {},
   "source": [
    "## <b>a) Theft And Handling</b>"
   ]
  },
  {
   "cell_type": "markdown",
   "metadata": {},
   "source": [
    "Jika dirincikan, Kasus pencurian secara umum dibagi menjadi 8 jenis pencurian yaitu:\n",
    "\n",
    "Minor_Category | Description\n",
    "---|---\n",
    "Handling Stolen Goods | Kejahatan karena telah menangani barang curian termasuk menyimpan, merawat, dll\n",
    "Motor Vehicle Interference & Tampering | Kejahatan pencurian kendaraan bermotor & part dari kendaran bermotor\n",
    "Theft From Motor Vehicle | Kasus pencurian yang dilakukan saat pencuri berada diatas motor\n",
    "Theft/Taking Of Motor Vehicle | Kasus pembegalan\n",
    "Theft From Shops | Kasus pencurian barang yang dilakukan di toko\n",
    "Theft/Taking of Pedal Cycle | Kasus pencurian sepeda dan juga pencurian sparepart pada sepeda\n",
    "Other Theft Person | Kasus pencurian yang dilakukan kepada individu\n",
    "Other Theft | Kasus pencurian lain yang belum diklasifikasi\n",
    "\n",
    "------------"
   ]
  },
  {
   "cell_type": "markdown",
   "metadata": {},
   "source": [
    "<img style=\"background:#afafaf; margin: 0 2rem 1rem 0; float:left; width:600px\" src=\"assets/theftAndHandlingCase.png\">\n",
    "dari total <b style=\"color:#afafaf\">2.661.861</b> kasus pencurian secara umum, dapat disimpulkan bahwa kasus pencurian yang sering terjadi di london selama 2008-2016 adalah kasus pencurian dengan jenis <u><i>other Theft</i></u>, <u><i>Theft From Motor Vehicle</i></u>, <u><i>Theft from Shops</i></u> dan <u><i>Other Theft Person</i></u>. untuk menambah keakuratan analisa kita, maka kita harus mengkaji lagi mengenai <u><i>other theft</i></u>. bisa jadi dengan menambah minor_category baru dalam kasus Theft and Handling. \n",
    "\n",
    "untuk analisa kejahatan lainnya termasuk pembegalan, pencurian sepeda / motor, menangani barang curian mempunyai proporsi yang lebih sedikit"
   ]
  },
  {
   "cell_type": "markdown",
   "metadata": {},
   "source": [
    "## <b>b) Violence Againts the Person</b>"
   ]
  },
  {
   "cell_type": "markdown",
   "metadata": {},
   "source": [
    "Kasus Kekerasan terhadap Manusia secara umum dibagi menjadi 7 jenis tindak Kekerasan yaitu:\n",
    "\n",
    "Minor_Category | Description\n",
    "---|---\n",
    "Assault with Injury | Kekerasan yang berujung pada luka ataupun cacat\n",
    "Common Assault | Kasus kekerasan dengan menggunakan senjata umum\n",
    "Harassment | TIndak kekerasan yang berujung pada paksaan terhadap seseorang\n",
    "Murder | Kasus yang berujung pada Pembunuhan\n",
    "Offensive Weapon | Kasus yang dilakukan dengan menggunakan senjata yang dimaksudkan untuk melukai seseorang\n",
    "Wounding/GBH | Kasus kekerasan yang Menyakiti tubuh seseorang\n",
    "Other violence | Kasus tindak kekerasan lainnya\n",
    "\n",
    "------------"
   ]
  },
  {
   "cell_type": "markdown",
   "metadata": {},
   "source": [
    "<img style=\"background:#afafaf; margin: 0 2rem 1rem 0; float:left; width:600px\" src=\"assets/violenceAgaintsthePersonCase.png\">\n",
    "Data Jenis tindak kriminal kekerasan yang didapat menunjukkan bahwa kasus kekerasan yang paling sering muncul adalah kekerasan akibat paksaan, kekerasan akibat senjata umum dan juga kasus kekerasan yang berujung pada luka ataupun cacat terhadap seseorang. untuk kasus kekerasan yang berujung kematian sangat minim terjadi selama tahun 2008 - 2016. meskipun pembunuhan <u>(murder)</u> sangat jarang terjadi, akan tetapi tingkat kasus yang menyebabkan cidera <u>(Assault With Injury)</u> menjadi kontributor terbesar kedua setelah kasus <u>Harassment</u> dengan persentase <b>28.9%</b>\n"
   ]
  },
  {
   "cell_type": "markdown",
   "metadata": {},
   "source": [
    "## <b>c) Burglary </b>"
   ]
  },
  {
   "cell_type": "markdown",
   "metadata": {},
   "source": [
    "Kasus kriminal terbesar ketiga di london adalah kasus perampokan. dalam hal ini kita harus membedakan antara perampokan dengan kasus pencurian. Kasus perampokan adalah kasus pencurian yang dilakukan secara terang-terangan di depan korban. sedangkan kasus pencurian adalah kasus mengambil suatu asset secara sembunyi-sembunyi. Kasus perampokan di London dibagi menjadi 2 bagian yaitu:\n",
    "\n",
    "Minor_Category | Description\n",
    "---|---\n",
    "Burglary in a dwelling | Kasus perampokan yang dilakukan di tempat tinggal / tempat kediaman\n",
    "Burglary in other Buildings | Kasus perampokan yang dilakukan di tempat lain\n",
    "\n",
    "------------"
   ]
  },
  {
   "cell_type": "markdown",
   "metadata": {},
   "source": [
    "<img style=\"background:#afafaf; margin: 0 2rem 1rem 0; float:left; width:400px\" src=\"assets/burglaryCase.png\">\n",
    "Dari jumlah <b>754293</b> kasus perampokan yang ada di London tahun 2008 - 2016, perampokan yang sering terjadi adalah perampokan yang dilakukan di rumah tempat tinggal. untuk kasus perampokan lainnya (perampokan bank, perampokan toko, perampokan bengkel, dll) lebih sedikit terjadi yaitu hanya sebesar <b>34.9%</b> dari keseluruhan kasus perampokan total. "
   ]
  },
  {
   "cell_type": "markdown",
   "metadata": {},
   "source": [
    "## <b>Minor Crime Ranking by Histogram </b>"
   ]
  },
  {
   "cell_type": "markdown",
   "metadata": {},
   "source": [
    "Agar mendapatkan hasil yang lebih jelas, maka kita akan menganalisa total seluruh minor category yang terjadi sepanjang tahun 2008 - 2016 dalam bentuk barplot dan mengurutkan minor category dari terbesar hingga terkecil maka didapatkan hasil bahwa 2 minor case terbesar adalah kasus pencurian. untuk urutan kasus yang lebih lengkap dapat dilihat pada barplot `Jumlah total kejahatan berdasarkan Minor Ccategory selama 8 Tahun.`"
   ]
  },
  {
   "cell_type": "markdown",
   "metadata": {},
   "source": [
    "<img style=\"background:#afafaf; margin: 0 2rem 1rem 0; float:left\" src=\"assets/barhCase.png\">"
   ]
  },
  {
   "cell_type": "markdown",
   "metadata": {},
   "source": [
    "## <b>Analisa masing-masing Borough terhadap Kasus Pencurian</b>"
   ]
  },
  {
   "cell_type": "markdown",
   "metadata": {},
   "source": [
    "Kali ini kita akan fokus pada tindak kriminal terbesar yang ada di london yaitu kasus <u><b>Thief And Handling</b></u> dan kita akan mencari tau Distrik manakah yang sering terdapat kasus pencurian berdasarkan data yang didapat."
   ]
  },
  {
   "cell_type": "markdown",
   "metadata": {},
   "source": [
    "<img style=\"background:#afafaf\" src=\"assets/theftinBorough.png\">"
   ]
  },
  {
   "cell_type": "markdown",
   "metadata": {},
   "source": [
    "Dari data diatas dapat disimpulkan bahwa daerah dengan tindak pencurian tertinggi terdapat di distrik <b><u>Westminster</u></b> dengan total kasus sebanyak <b>277617</b> kasus pencurian selama 8 tahun. distrik ini bahkan mampunyai 2 kali lipat kasus daripada distrik <b><u>Camden</u></b> sebagai peringkat ke-2 kasus pencurian dengan total kasus <b>140596</b>. dan dapat dikatakan bahwa kota London atau lebih dikenal dengan <b><u>City of London</u></b> memrupakan distrik yang paling aman dari tindak pencurian."
   ]
  },
  {
   "cell_type": "markdown",
   "metadata": {},
   "source": [
    "note : \n",
    "- untuk scatterplot, histogram masih belum diaplikasikan karena menurut saya plot tersebut masih belum cocok untuk diaplikasikan dalam data london crime karena plot tersebut lebih cocok digunakan untuk probabilitas :)"
   ]
  }
 ],
 "metadata": {
  "interpreter": {
   "hash": "b3ba2566441a7c06988d0923437866b63cedc61552a5af99d1f4fb67d367b25f"
  },
  "kernelspec": {
   "display_name": "Python 3.9.7 ('base')",
   "language": "python",
   "name": "python3"
  },
  "language_info": {
   "codemirror_mode": {
    "name": "ipython",
    "version": 3
   },
   "file_extension": ".py",
   "mimetype": "text/x-python",
   "name": "python",
   "nbconvert_exporter": "python",
   "pygments_lexer": "ipython3",
   "version": "3.9.7"
  },
  "orig_nbformat": 4
 },
 "nbformat": 4,
 "nbformat_minor": 2
}
